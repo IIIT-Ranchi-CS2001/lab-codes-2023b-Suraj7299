{
 "cells": [
  {
   "cell_type": "code",
   "execution_count": 2,
   "id": "3f4b3de8-e3d5-44d9-86ec-a89e9295613d",
   "metadata": {},
   "outputs": [
    {
     "name": "stdout",
     "output_type": "stream",
     "text": [
      "Enter Numbers\n"
     ]
    },
    {
     "name": "stdin",
     "output_type": "stream",
     "text": [
      " 5\n",
      " 2\n"
     ]
    },
    {
     "name": "stdout",
     "output_type": "stream",
     "text": [
      "Sum: 7\n",
      "Difference: 3\n",
      "Multiplication: 10\n",
      "Quotient: 2\n",
      "Remainder: 1\n",
      "Fractional Quotient: 2.5\n"
     ]
    }
   ],
   "source": [
    "#arithmetic operation\n",
    "print(\"Enter Numbers\")\n",
    "a,b=int(input()),int(input())\n",
    "print(\"Sum:\",a+b)\n",
    "print(\"Difference:\",a-b)\n",
    "print(\"Multiplication:\",a*b)\n",
    "print(\"Quotient:\",a//b)\n",
    "print(\"Remainder:\",a%b)\n",
    "print(\"Fractional Quotient:\",a/b)"
   ]
  },
  {
   "cell_type": "code",
   "execution_count": 3,
   "id": "78e2133a-c8e4-4a73-8367-07c2005a44c1",
   "metadata": {},
   "outputs": [
    {
     "name": "stdout",
     "output_type": "stream",
     "text": [
      "Enter The Length of three sides of the triangle\n"
     ]
    },
    {
     "name": "stdin",
     "output_type": "stream",
     "text": [
      " 3\n",
      " 4\n",
      " 5\n"
     ]
    },
    {
     "name": "stdout",
     "output_type": "stream",
     "text": [
      "Perimeter : 12\n",
      "Area : 6.0\n",
      "angle 1: 36.86989764584401\n",
      "angle 2: 53.13010235415599\n",
      "angle 3: 90.0\n"
     ]
    }
   ],
   "source": [
    "#2.area and perimeter of triangle(Using Heron's equation)\n",
    "import math\n",
    "print(\"Enter The Length of three sides of the triangle\")\n",
    "a,b,c=int(input()),int(input()),int(input())\n",
    "print(\"Perimeter :\",a+b+c)\n",
    "s=(a+b+c)/2\n",
    "print(\"Area :\",math.sqrt(s*(s-a)*(s-b)*(s-c)))\n",
    "print(\"angle 1:\",math.degrees(math.acos((b**2+c**2-a**2)/(2*b*c))))\n",
    "print(\"angle 2:\",math.degrees(math.acos((a**2+c**2-b**2)/(2*a*c))))\n",
    "print(\"angle 3:\",math.degrees(math.acos((b**2+a**2-c**2)/(2*a*b))))"
   ]
  },
  {
   "cell_type": "code",
   "execution_count": 4,
   "id": "04b34963-355d-40ab-9420-a92971d44aea",
   "metadata": {},
   "outputs": [
    {
     "name": "stdin",
     "output_type": "stream",
     "text": [
      "Enter temperature in celcius:  37\n"
     ]
    },
    {
     "name": "stdout",
     "output_type": "stream",
     "text": [
      "temperature in fahrenheit will be 98.60000000000001\n"
     ]
    }
   ],
   "source": [
    "#convert celcius into fahrenheit\n",
    "c=float(input(\"Enter temperature in celcius: \"))\n",
    "print(\"temperature in fahrenheit will be\",1.8*c+32)"
   ]
  },
  {
   "cell_type": "code",
   "execution_count": null,
   "id": "e050a564-82c6-419d-ae2f-356b2247228c",
   "metadata": {},
   "outputs": [],
   "source": []
  }
 ],
 "metadata": {
  "kernelspec": {
   "display_name": "Python 3 (ipykernel)",
   "language": "python",
   "name": "python3"
  },
  "language_info": {
   "codemirror_mode": {
    "name": "ipython",
    "version": 3
   },
   "file_extension": ".py",
   "mimetype": "text/x-python",
   "name": "python",
   "nbconvert_exporter": "python",
   "pygments_lexer": "ipython3",
   "version": "3.11.5"
  }
 },
 "nbformat": 4,
 "nbformat_minor": 5
}
