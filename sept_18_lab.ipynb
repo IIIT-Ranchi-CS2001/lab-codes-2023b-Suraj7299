{
 "cells": [
  {
   "cell_type": "code",
   "execution_count": 20,
   "metadata": {},
   "outputs": [
    {
     "name": "stdout",
     "output_type": "stream",
     "text": [
      "2\n"
     ]
    }
   ],
   "source": [
    "#1 Find the number of palindrome words in the given sentence without defining any new function (feel free to use python’s in-built functions).\n",
    "\n",
    "s=input(\"Enter the sentence:\")\n",
    "s=s.upper()\n",
    "p=s.split()\n",
    "count=0\n",
    "for i in range(0,len(p)):\n",
    "    flag=0\n",
    "    n=p[i]\n",
    "    for j in range(0,len(n)):\n",
    "        if(n[j]!=n[0-j-1]):\n",
    "            flag=1\n",
    "    if(flag==1):\n",
    "        count+=1\n",
    "\n",
    "\n",
    "\n",
    "print(count)              \n",
    "\n",
    "# Input:\n",
    "# pop mam house hello list \n"
   ]
  },
  {
   "cell_type": "code",
   "execution_count": 15,
   "metadata": {},
   "outputs": [
    {
     "name": "stdout",
     "output_type": "stream",
     "text": [
      "Mean is: 3.3\n",
      "Median is: 2.5\n",
      "Mode is: 2\n"
     ]
    }
   ],
   "source": [
    "#2 Create a list of int using list comprehension [multiple input from keyboard].  Find the mean, median, and mode of the given list.\n",
    "\n",
    "s=input(\"Enter the list\")\n",
    "n=s.split()\n",
    "sum=0\n",
    "for i in range(0,len(n)):\n",
    "    n[i]=int(n[i])\n",
    "    sum+=n[i]\n",
    "print(\"Mean is:\",sum/len(n))\n",
    "n=sorted(n)\n",
    "l=len(n)\n",
    "\n",
    "\n",
    "if(len(n)%2==0):\n",
    "    \n",
    "    median=(n[(l//2)-1]+n[(l//2)])/2\n",
    "else:\n",
    "    median=(n[(l//2)+1])\n",
    "print(\"Median is:\",median)   \n",
    "    \n",
    "\n",
    "\n",
    "count=1\n",
    "maxi=count\n",
    "maximum=n[i]\n",
    "for i in range(0,len(n)):\n",
    "    if(n[i]==n[i-1]):\n",
    "        count+=1\n",
    "    else :count=1    \n",
    "    if(maxi<count):\n",
    "        maximum=n[i]\n",
    "        maxi=max(maxi,count)\n",
    "print(\"Mode is:\",maximum)   \n",
    "\n",
    "# Input:\n",
    "# 4 4 3 1 6 7 2 2 2 2\n",
    "        \n",
    "\n",
    "\n"
   ]
  },
  {
   "cell_type": "code",
   "execution_count": 16,
   "metadata": {},
   "outputs": [
    {
     "name": "stdout",
     "output_type": "stream",
     "text": [
      "['1:Physics', '2:Chemistry', '3:Maths', '4:Biology', '5:IT']\n"
     ]
    }
   ],
   "source": [
    "#3 Generate 2 lists (course code and course name). create a new list with both course code and name like[\"CS1001:Python\",...]\n",
    "\n",
    "s=input(\"Enter course code:\")\n",
    "r=input(\"Enter course name:\")\n",
    "p=s.split()\n",
    "q=r.split()\n",
    "l=[]\n",
    "\n",
    "for i in range(0,len(p)):\n",
    "    a=p[i]+\":\"+q[i]\n",
    "    l.append(a)\n",
    "print(l)    \n",
    "\n",
    "# Input:\n",
    "# 1 2 3 4 5\n",
    "# Physics Chemistry Maths Biology IT\n"
   ]
  },
  {
   "cell_type": "code",
   "execution_count": null,
   "metadata": {},
   "outputs": [],
   "source": []
  }
 ],
 "metadata": {
  "kernelspec": {
   "display_name": "Python 3",
   "language": "python",
   "name": "python3"
  },
  "language_info": {
   "codemirror_mode": {
    "name": "ipython",
    "version": 3
   },
   "file_extension": ".py",
   "mimetype": "text/x-python",
   "name": "python",
   "nbconvert_exporter": "python",
   "pygments_lexer": "ipython3",
   "version": "3.11.5"
  }
 },
 "nbformat": 4,
 "nbformat_minor": 2
}
