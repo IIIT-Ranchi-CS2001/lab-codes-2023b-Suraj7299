{
 "cells": [
  {
   "cell_type": "code",
   "execution_count": 1,
   "id": "0a4ef073-4acd-43c7-9099-688e654762bc",
   "metadata": {},
   "outputs": [
    {
     "name": "stdout",
     "output_type": "stream",
     "text": [
      "mAHA bHARAT\n",
      "Bharat\n",
      "BharatBharatBharat\n",
      "Mera Bharat\n",
      "Maha Bharat Mahan\n"
     ]
    }
   ],
   "source": [
    "s1=\"Maha Bharat\"\n",
    "s2=(s1.replace(\"Maha\", \"mAHA\"))\n",
    "s3=(s2.replace(\"Bharat\", \"bHARAT\"))\n",
    "print(s3)\n",
    "print(s1[5:])\n",
    "print(s1[5:]*3)\n",
    "print(s1.replace(\"Maha\",\"Mera\"))\n",
    "s4=f'{s1} Mahan'\n",
    "print(s4)"
   ]
  },
  {
   "cell_type": "code",
   "execution_count": 2,
   "id": "3154c3ad-a9ac-497e-b2ea-6b128a76c76f",
   "metadata": {},
   "outputs": [
    {
     "name": "stdout",
     "output_type": "stream",
     "text": [
      "17\n",
      "14\n",
      "3\n",
      "Ta Ta Black Sheep\n"
     ]
    }
   ],
   "source": [
    "s=\"Ba Ba Black Sheep\"\n",
    "print(len(s))\n",
    "print(s.index('e'))\n",
    "print(s.count('a'))\n",
    "print(s.replace(\"Ba Ba\", \"Ta Ta\"))\n"
   ]
  },
  {
   "cell_type": "code",
   "execution_count": 3,
   "id": "ad29a407-83b2-471c-bf6c-dfd39435de85",
   "metadata": {},
   "outputs": [
    {
     "name": "stdin",
     "output_type": "stream",
     "text": [
      " mum\n"
     ]
    },
    {
     "name": "stdout",
     "output_type": "stream",
     "text": [
      "It is a palindrome\n"
     ]
    }
   ],
   "source": [
    "a=input()\n",
    "b=a[::-1]\n",
    "if a==b :\n",
    "    print(\"It is a palindrome\")\n",
    "else:\n",
    "    print(\"It is not a palindrome\")\n",
    "    "
   ]
  },
  {
   "cell_type": "code",
   "execution_count": 4,
   "id": "d51554d9-f11e-4360-8182-6c3da7fc8e39",
   "metadata": {},
   "outputs": [
    {
     "name": "stdout",
     "output_type": "stream",
     "text": [
      "Enter coefficients of quadratic equation\n"
     ]
    },
    {
     "name": "stdin",
     "output_type": "stream",
     "text": [
      "Enter a 2\n",
      "Enter b 2\n",
      "Enter c 2\n"
     ]
    },
    {
     "name": "stdout",
     "output_type": "stream",
     "text": [
      "It has two Complex Roots:\n",
      "\n",
      "Real Part: -0.5\n",
      "Imaginary Part: 0.8660254037844386\n"
     ]
    }
   ],
   "source": [
    "import math\n",
    "print(\"Enter coefficients of quadratic equation\")\n",
    "a,b,c=int(input(\"Enter a\")),int(input(\"Enter b\")),int(input(\"Enter c\"))\n",
    "d=b**2-4*a*c\n",
    "if d==0:\n",
    "    re=-b/(2*a)\n",
    "    print(\"Two Equal Roots are:\",re)\n",
    "elif d>0:\n",
    "    r1=(-b+math.sqrt(d))/(2*a)\n",
    "    r2=(-b-math.sqrt(d))/(2*a)\n",
    "    print(\"Two Real Roots are:\",r1,\"and\",r2)\n",
    "else:\n",
    "    rp=-b/(2*a)\n",
    "    ip=math.sqrt(-d)/(2*a)\n",
    "    print(\"It has two Complex Roots:\\n\")\n",
    "    print(\"Real Part:\",rp)\n",
    "    print(\"Imaginary Part:\",ip)"
   ]
  },
  {
   "cell_type": "code",
   "execution_count": 5,
   "id": "4f7d7b41-b648-48e2-a727-3c4b82a51a40",
   "metadata": {},
   "outputs": [
    {
     "name": "stdin",
     "output_type": "stream",
     "text": [
      "Enter Name: Suraj Kumar\n",
      "Enter Roll Number: 32\n",
      "Enter Marks Obtained:  90\n"
     ]
    },
    {
     "name": "stdout",
     "output_type": "stream",
     "text": [
      "Details Of Student:\n",
      " {'Name': 'Suraj Kumar', 'Roll Number': 32, 'Marks': 90, 'Grade Point': 10, 'Remark': 'OUTSTANDING'}\n"
     ]
    }
   ],
   "source": [
    "student={'Name':input(\"Enter Name:\"),'Roll Number':int(input(\"Enter Roll Number:\")),'Marks':int(input(\"Enter Marks Obtained: \")),'Grade Point':None,'Remark':None}\n",
    "if student['Marks']>=90:\n",
    "    student['Grade Point']=10\n",
    "    student['Remark']=\"OUTSTANDING\"\n",
    "elif student['Marks']>=80 and student['Marks']<90:\n",
    "    student['Grade Point']=9\n",
    "    student['Remark']=\"VERY GOOD\"\n",
    "elif student['Marks']>=70 and student['Marks']<80:\n",
    "    student['Grade Point']=9\n",
    "    student['Remark']=\"GOOD\"\n",
    "elif student['Marks']>=60 and student['Marks']<70:\n",
    "    student['Grade Point']=9\n",
    "    student['Remark']=\"AVERAGE\"\n",
    "elif student['Marks']>=50 and student['Marks']<70:\n",
    "    student['Grade Point']=9\n",
    "    student['Remark']=\"PASS\"\n",
    "else :\n",
    "    student['Grade Point']=0\n",
    "    student['Remark']=\"FAIL\"\n",
    "print(\"Details Of Student:\\n\",student)"
   ]
  },
  {
   "cell_type": "code",
   "execution_count": null,
   "id": "13c57dc7-1ac1-4e52-bb63-d0f812b1d8bb",
   "metadata": {},
   "outputs": [],
   "source": []
  }
 ],
 "metadata": {
  "kernelspec": {
   "display_name": "Python 3 (ipykernel)",
   "language": "python",
   "name": "python3"
  },
  "language_info": {
   "codemirror_mode": {
    "name": "ipython",
    "version": 3
   },
   "file_extension": ".py",
   "mimetype": "text/x-python",
   "name": "python",
   "nbconvert_exporter": "python",
   "pygments_lexer": "ipython3",
   "version": "3.11.5"
  }
 },
 "nbformat": 4,
 "nbformat_minor": 5
}
