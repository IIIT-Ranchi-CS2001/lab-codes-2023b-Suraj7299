{
 "cells": [
  {
   "cell_type": "code",
   "execution_count": 2,
   "id": "dbf56c0e-5c2a-4860-bcb0-085ef108fe11",
   "metadata": {},
   "outputs": [
    {
     "name": "stdin",
     "output_type": "stream",
     "text": [
      " 5\n"
     ]
    },
    {
     "name": "stdout",
     "output_type": "stream",
     "text": [
      "1 1\n",
      "2 4\n",
      "3 9\n",
      "4 16\n",
      "5 25\n"
     ]
    }
   ],
   "source": [
    "#1. Write a python script to find the squares of first n natural numbers\n",
    "n=int(input())\n",
    "a=1\n",
    "while n>0:\n",
    "    \n",
    "    print(a,a*a)\n",
    "    a=a+1\n",
    "    n=n-1"
   ]
  },
  {
   "cell_type": "code",
   "execution_count": 3,
   "id": "c0f1bc8d-9ec3-427b-82b6-264e9d9790e6",
   "metadata": {},
   "outputs": [
    {
     "name": "stdin",
     "output_type": "stream",
     "text": [
      "Enter the number: 567\n"
     ]
    },
    {
     "name": "stdout",
     "output_type": "stream",
     "text": [
      "Sum of digits:\n",
      "18\n"
     ]
    }
   ],
   "source": [
    "#2. Write a python script to find the sum of the digits of the given number using a while loop. Display the number and the sum.\n",
    "n=int(input(\"Enter the number:\"))\n",
    "print(\"Sum of digits:\")\n",
    "s=0\n",
    "while n!=0:\n",
    "    s=s+n%10\n",
    "    n=n//10\n",
    "print(s)    \n",
    "\n"
   ]
  },
  {
   "cell_type": "code",
   "execution_count": 5,
   "id": "1b13ad86-1c5d-4477-a8fb-f6b2cdfdb12a",
   "metadata": {},
   "outputs": [
    {
     "name": "stdin",
     "output_type": "stream",
     "text": [
      "Enter the number: 8\n"
     ]
    },
    {
     "name": "stdout",
     "output_type": "stream",
     "text": [
      "The fibonacci series is:\n",
      "0\n",
      "1\n",
      "1\n",
      "2\n",
      "3\n",
      "5\n",
      "8\n",
      "13\n"
     ]
    }
   ],
   "source": [
    "#3. Write a python script to print the first n terms of the Fibonacci series using while loop.\n",
    "n=int(input(\"Enter the number:\"))\n",
    "print(\"The fibonacci series is:\")\n",
    "a=0\n",
    "b=1\n",
    "while n!=0:\n",
    "    print(a)\n",
    "    temp=a+b\n",
    "    a=b\n",
    "    b=temp\n",
    "    n=n-1\n"
   ]
  },
  {
   "cell_type": "code",
   "execution_count": 6,
   "id": "3aacccb5-ea2e-4ca9-8e99-ec8c9497f964",
   "metadata": {},
   "outputs": [
    {
     "name": "stdin",
     "output_type": "stream",
     "text": [
      "Enter the number to print the table: 7\n",
      "Enter the limit: 12\n"
     ]
    },
    {
     "name": "stdout",
     "output_type": "stream",
     "text": [
      "7\n",
      "14\n",
      "21\n",
      "28\n",
      "35\n",
      "42\n",
      "49\n",
      "56\n",
      "63\n",
      "70\n",
      "77\n",
      "84\n"
     ]
    }
   ],
   "source": [
    "#4. Write a python script to print the multiplication table of a given number up to the specified limit using a for loop.\n",
    "n=int(input(\"Enter the number to print the table:\"))\n",
    "m=int(input(\"Enter the limit:\"))\n",
    "i=1\n",
    "while m>0:\n",
    "    print(n*i)\n",
    "    i=i+1\n",
    "    m=m-1"
   ]
  },
  {
   "cell_type": "code",
   "execution_count": 9,
   "id": "f5194385-595d-4e7d-93b7-080995f0cdae",
   "metadata": {},
   "outputs": [
    {
     "name": "stdin",
     "output_type": "stream",
     "text": [
      "Enter the String: apple#$\n"
     ]
    },
    {
     "name": "stdout",
     "output_type": "stream",
     "text": [
      "False\n"
     ]
    }
   ],
   "source": [
    "#5. Write a python script to check whether all the characters present in a string are alphanumeric (uppercase letters, lowercase letters or digits) using for  with else. Print True if all characters are alphanumeric. Otherwise print False.\n",
    "s=input(\"Enter the String:\")\n",
    "n=len(s)\n",
    "b=True\n",
    "for i in range(n):\n",
    "    if 'a'<=s[i]<='z' or 'A'<=s[i]<='Z' or '0'<=s[i]<='9':\n",
    "        b=True\n",
    "    else:\n",
    "        b=False\n",
    "        break\n",
    "print(b)"
   ]
  },
  {
   "cell_type": "code",
   "execution_count": 10,
   "id": "f733f690-bebc-4ebb-944e-a8ee9aae9c9d",
   "metadata": {},
   "outputs": [
    {
     "name": "stdin",
     "output_type": "stream",
     "text": [
      "Enter the string: banana\n",
      "Enter the character: a\n"
     ]
    },
    {
     "name": "stdout",
     "output_type": "stream",
     "text": [
      "3\n"
     ]
    }
   ],
   "source": [
    "#6. Write a python script to find the number of occurrences of a particular character present in the given string using a loop. (Don’t use string methods)\n",
    "s=input(\"Enter the string:\")\n",
    "a=input(\"Enter the character:\")\n",
    "n=0\n",
    "for i in range(len(s)):\n",
    "    if s[i]==a:\n",
    "        n+=1\n",
    "print(n)"
   ]
  },
  {
   "cell_type": "code",
   "execution_count": null,
   "id": "80c2d002-a8a6-4acd-8c5f-19bd1ce5f67b",
   "metadata": {},
   "outputs": [],
   "source": []
  }
 ],
 "metadata": {
  "kernelspec": {
   "display_name": "Python 3 (ipykernel)",
   "language": "python",
   "name": "python3"
  },
  "language_info": {
   "codemirror_mode": {
    "name": "ipython",
    "version": 3
   },
   "file_extension": ".py",
   "mimetype": "text/x-python",
   "name": "python",
   "nbconvert_exporter": "python",
   "pygments_lexer": "ipython3",
   "version": "3.11.5"
  }
 },
 "nbformat": 4,
 "nbformat_minor": 5
}
